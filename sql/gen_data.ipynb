{
 "cells": [
  {
   "cell_type": "code",
   "execution_count": 1,
   "metadata": {},
   "outputs": [],
   "source": [
    "import mysql.connector\n",
    "import random\n",
    "from faker import Faker"
   ]
  },
  {
   "cell_type": "code",
   "execution_count": 2,
   "metadata": {},
   "outputs": [],
   "source": [
    "conn = mysql.connector.connect(\n",
    "    host = '127.0.0.1',\n",
    "    user = 'root',\n",
    "    password = 'Sahi@123',\n",
    "    database='zomdb'\n",
    ")"
   ]
  },
  {
   "cell_type": "code",
   "execution_count": 3,
   "metadata": {},
   "outputs": [],
   "source": [
    "fake = Faker()\n"
   ]
  },
  {
   "cell_type": "code",
   "execution_count": 4,
   "metadata": {},
   "outputs": [],
   "source": [
    "cursor = conn.cursor()"
   ]
  },
  {
   "cell_type": "markdown",
   "metadata": {},
   "source": [
    "# Customers Table"
   ]
  },
  {
   "cell_type": "code",
   "execution_count": 5,
   "metadata": {},
   "outputs": [],
   "source": [
    "cursor.execute('''\n",
    "CREATE TABLE IF NOT EXISTS Customers (\n",
    "    customer_id INT AUTO_INCREMENT PRIMARY KEY,\n",
    "    name VARCHAR(255),\n",
    "    email VARCHAR(255),\n",
    "    phone VARCHAR(20),\n",
    "    location VARCHAR(255),\n",
    "    signup_date DATE,\n",
    "    is_premium BOOLEAN,\n",
    "    preferred_cuisine VARCHAR(50),\n",
    "    total_orders INT,\n",
    "    average_rating FLOAT\n",
    ")\n",
    "''')"
   ]
  },
  {
   "cell_type": "code",
   "execution_count": 6,
   "metadata": {},
   "outputs": [],
   "source": [
    "cuisines = ['Indian', 'Chinese', 'Mexican', 'Italian', 'Japanese', 'Thai']\n",
    "\n",
    "for _ in range(100):  # Insert 100 customers\n",
    "    cursor.execute('''\n",
    "    INSERT INTO Customers (name, email, phone, location, signup_date, is_premium, preferred_cuisine, total_orders, average_rating)\n",
    "    VALUES (%s, %s, %s, %s, %s, %s, %s, %s, %s)\n",
    "    ''', (\n",
    "        fake.name(),\n",
    "        fake.email(),\n",
    "        fake.phone_number()[:12],\n",
    "        fake.address(),\n",
    "        fake.date_this_decade(),\n",
    "        random.choice([True, False]),\n",
    "        random.choice(cuisines),\n",
    "        random.randint(1, 100),\n",
    "        round(random.uniform(1, 5), 2)\n",
    "    ))\n",
    "conn.commit()"
   ]
  },
  {
   "cell_type": "markdown",
   "metadata": {},
   "source": [
    "# Restaurants Table"
   ]
  },
  {
   "cell_type": "code",
   "execution_count": 7,
   "metadata": {},
   "outputs": [],
   "source": [
    "cursor.execute('''\n",
    "CREATE TABLE IF NOT EXISTS Restaurants (\n",
    "    restaurant_id INT AUTO_INCREMENT PRIMARY KEY,\n",
    "    name VARCHAR(255),\n",
    "    cuisine_type VARCHAR(50),\n",
    "    location VARCHAR(255),\n",
    "    owner_name VARCHAR(255),\n",
    "    average_delivery_time INT,\n",
    "    contact_number VARCHAR(20),\n",
    "    rating FLOAT,\n",
    "    total_orders INT,\n",
    "    is_active BOOLEAN\n",
    ")\n",
    "''')"
   ]
  },
  {
   "cell_type": "code",
   "execution_count": 8,
   "metadata": {},
   "outputs": [],
   "source": [
    "for _ in range(30):  # Insert 30 restaurants\n",
    "    cursor.execute('''\n",
    "    INSERT INTO Restaurants (name, cuisine_type, location, owner_name, average_delivery_time, contact_number, rating, total_orders, is_active)\n",
    "    VALUES (%s, %s, %s, %s, %s, %s, %s, %s, %s)\n",
    "    ''', (\n",
    "        fake.company(),\n",
    "        random.choice(cuisines),\n",
    "        fake.address(),\n",
    "        fake.name(),\n",
    "        random.randint(20, 60),\n",
    "        fake.phone_number()[:12],\n",
    "        round(random.uniform(2, 5), 2),\n",
    "        random.randint(50, 500),\n",
    "        random.choice([True, False])\n",
    "    ))\n",
    "conn.commit()\n"
   ]
  },
  {
   "cell_type": "markdown",
   "metadata": {},
   "source": [
    "# Delivery Persons Table"
   ]
  },
  {
   "cell_type": "code",
   "execution_count": 9,
   "metadata": {},
   "outputs": [],
   "source": [
    "cursor.execute('''\n",
    "CREATE TABLE IF NOT EXISTS DeliveryPersons (\n",
    "    delivery_person_id INT AUTO_INCREMENT PRIMARY KEY,\n",
    "    name VARCHAR(255),\n",
    "    contact_number VARCHAR(20),\n",
    "    vehicle_type VARCHAR(20),\n",
    "    total_deliveries INT,\n",
    "    average_rating FLOAT,\n",
    "    location VARCHAR(255)\n",
    ")\n",
    "''')"
   ]
  },
  {
   "cell_type": "code",
   "execution_count": 10,
   "metadata": {},
   "outputs": [],
   "source": [
    "vehicle_types = ['Bike', 'Car', 'Scooter', 'Bicycle']\n",
    "\n",
    "for _ in range(50):  # Insert 50 delivery persons\n",
    "    cursor.execute('''\n",
    "    INSERT INTO DeliveryPersons (name, contact_number, vehicle_type, total_deliveries, average_rating, location)\n",
    "    VALUES (%s, %s, %s, %s, %s, %s)\n",
    "    ''', (\n",
    "        fake.name(),\n",
    "        fake.phone_number()[:12],\n",
    "        random.choice(vehicle_types),\n",
    "        random.randint(100, 1000),\n",
    "        round(random.uniform(3, 5), 2),\n",
    "        fake.city()\n",
    "    ))\n",
    "conn.commit()\n",
    "\n"
   ]
  },
  {
   "cell_type": "markdown",
   "metadata": {},
   "source": [
    "# Orders Table"
   ]
  },
  {
   "cell_type": "code",
   "execution_count": 11,
   "metadata": {},
   "outputs": [],
   "source": [
    "cursor.execute('''\n",
    "CREATE TABLE IF NOT EXISTS Orders (\n",
    "    order_id INT AUTO_INCREMENT PRIMARY KEY,\n",
    "    customer_id INT,\n",
    "    restaurant_id INT,\n",
    "    order_date DATETIME,\n",
    "    delivery_time DATETIME,\n",
    "    status VARCHAR(50),\n",
    "    total_amount FLOAT,\n",
    "    payment_mode VARCHAR(50),\n",
    "    discount_applied FLOAT,\n",
    "    feedback_rating FLOAT,\n",
    "    FOREIGN KEY (customer_id) REFERENCES Customers(customer_id),\n",
    "    FOREIGN KEY (restaurant_id) REFERENCES Restaurants(restaurant_id)\n",
    ")\n",
    "''')"
   ]
  },
  {
   "cell_type": "code",
   "execution_count": 12,
   "metadata": {},
   "outputs": [],
   "source": [
    "from datetime import timedelta\n",
    "\n",
    "data = []\n",
    "for _ in range(200):\n",
    "    customer_id = random.randint(1, 100)\n",
    "    restaurant_id = random.randint(1, 30)\n",
    "    order_date = fake.date_time_this_year()\n",
    "    delivery_time = order_date + timedelta(minutes=random.randint(20, 90))\n",
    "\n",
    "    data.append((\n",
    "        customer_id,\n",
    "        restaurant_id,\n",
    "        order_date,\n",
    "        delivery_time,\n",
    "        random.choice(['Pending', 'Delivered', 'Cancelled']),\n",
    "        round(random.uniform(100, 2000), 2),\n",
    "        random.choice(['Credit Card', 'Cash', 'UPI']),\n",
    "        round(random.uniform(0, 500), 2),\n",
    "        round(random.uniform(1, 5), 2)\n",
    "    ))\n",
    "\n"
   ]
  },
  {
   "cell_type": "code",
   "execution_count": 13,
   "metadata": {},
   "outputs": [],
   "source": [
    "cursor.executemany('''\n",
    "    INSERT INTO Orders (customer_id, restaurant_id, order_date, delivery_time, status, total_amount, payment_mode, discount_applied, feedback_rating)\n",
    "    VALUES (%s, %s, %s, %s, %s, %s, %s, %s, %s)\n",
    "''', data)\n",
    "\n",
    "conn.commit()"
   ]
  },
  {
   "cell_type": "markdown",
   "metadata": {},
   "source": [
    "# Deliveries Table"
   ]
  },
  {
   "cell_type": "code",
   "execution_count": 14,
   "metadata": {},
   "outputs": [],
   "source": [
    "cursor.execute('''\n",
    "CREATE TABLE IF NOT EXISTS Deliveries (\n",
    "    delivery_id INT AUTO_INCREMENT PRIMARY KEY,\n",
    "    order_id INT,\n",
    "    delivery_person_id INT,\n",
    "    delivery_status VARCHAR(50),\n",
    "    distance FLOAT,\n",
    "    delivery_time INT,\n",
    "    estimated_time INT,\n",
    "    delivery_fee FLOAT,\n",
    "    vehicle_type VARCHAR(20),\n",
    "    FOREIGN KEY (order_id) REFERENCES Orders(order_id),\n",
    "    FOREIGN KEY (delivery_person_id) REFERENCES DeliveryPersons(delivery_person_id)\n",
    ")\n",
    "''')"
   ]
  },
  {
   "cell_type": "code",
   "execution_count": null,
   "metadata": {},
   "outputs": [],
   "source": [
    "for _ in range(180):  # Insert 180 deliveries\n",
    "    order_id = random.randint(1, 200)\n",
    "    delivery_person_id = random.randint(1, 50)\n",
    "\n",
    "    cursor.execute('''\n",
    "    INSERT INTO Deliveries (order_id, delivery_person_id, delivery_status, distance, delivery_time, estimated_time, delivery_fee, vehicle_type)\n",
    "    VALUES (%s, %s, %s, %s, %s, %s, %s, %s)\n",
    "    ''', (\n",
    "        order_id,\n",
    "        delivery_person_id,\n",
    "        random.choice(['On the way', 'Delivered']),\n",
    "        round(random.uniform(1, 15), 2),\n",
    "        random.randint(20, 90),\n",
    "        random.randint(20, 70),\n",
    "        round(random.uniform(20, 100), 2),\n",
    "        random.choice(vehicle_types)\n",
    "    ))\n",
    "conn.commit()\n"
   ]
  },
  {
   "cell_type": "code",
   "execution_count": null,
   "metadata": {},
   "outputs": [],
   "source": []
  }
 ],
 "metadata": {
  "kernelspec": {
   "display_name": "myenv",
   "language": "python",
   "name": "python3"
  },
  "language_info": {
   "codemirror_mode": {
    "name": "ipython",
    "version": 3
   },
   "file_extension": ".py",
   "mimetype": "text/x-python",
   "name": "python",
   "nbconvert_exporter": "python",
   "pygments_lexer": "ipython3",
   "version": "3.13.1"
  }
 },
 "nbformat": 4,
 "nbformat_minor": 2
}
